{
 "cells": [
  {
   "cell_type": "markdown",
   "metadata": {},
   "source": [
    "# Three Capstone Projects Ideas\n",
    "\n",
    "\n",
    "1) Rossmann Store Sales Kaggle Competition.\n",
    "\n",
    "In this competition, people are asked to develop a model that allows  to predict the sales of each of the Rossmann stores, based on certain geographical and temporal information provided. My idea for this project is to clean the dataset and feed it into a machine learning model. A key part of the project will be to figure out which features (out of the ~20 provided) is necessary to accurately predict sales and which ones aren't. Once a good model has been found, the insights from this study could also be used to increase sales, for example by targeting those stores which sales are below average.\n",
    "\n",
    "2) Boston Restaurants Health Inspections\n",
    "\n",
    "This project will make use of a publicly available database (https://data.cityofboston.gov/Health/Food-Establishment-Inspections/qndu-wx8w) which reports all the available information about the outcomes of restaurants health inspections. One could use these data to do a variety of things:\n",
    "\n",
    "- Rate restaurants based on their health inspection results\n",
    "- Try to predict which restaurant will fail their health inspection based on the information available\n",
    "- Merge this dataset with others (Yelp?) to see if user ratings are a good predictor of the health inspection result (this is more ambitious)\n",
    "\n",
    "3) Data for Diplomas Project\n",
    "\n",
    "In this challenge (http://datafordiplomas.devpost.com/), users are provided with graduation and census data. The challenge is to find which factors affect graduation data (and perhaps go beyond the usual race, socio-economic status categories) and provide useful, actionable insights on how to raise the graduation rate to 90% by 2020.\n",
    "\n"
   ]
  }
 ],
 "metadata": {
  "kernelspec": {
   "display_name": "Python 2",
   "language": "python",
   "name": "python2"
  },
  "language_info": {
   "codemirror_mode": {
    "name": "ipython",
    "version": 2
   },
   "file_extension": ".py",
   "mimetype": "text/x-python",
   "name": "python",
   "nbconvert_exporter": "python",
   "pygments_lexer": "ipython2",
   "version": "2.7.10"
  }
 },
 "nbformat": 4,
 "nbformat_minor": 0
}
